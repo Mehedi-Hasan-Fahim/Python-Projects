{
 "cells": [
  {
   "cell_type": "markdown",
   "id": "0cb0b8d5",
   "metadata": {},
   "source": [
    "Python Program to learn how to process spreadsheets"
   ]
  },
  {
   "cell_type": "code",
   "execution_count": 1,
   "id": "ee993d1f",
   "metadata": {},
   "outputs": [],
   "source": [
    "import openpyxl as xl \n",
    "from openpyxl.chart import BarChart , Reference"
   ]
  },
  {
   "cell_type": "code",
   "execution_count": 32,
   "id": "c5b6cb32",
   "metadata": {},
   "outputs": [
    {
     "name": "stdout",
     "output_type": "stream",
     "text": [
      "transaction_id\n"
     ]
    }
   ],
   "source": [
    "wb = xl.load_workbook('transactions.xlsx')\n",
    "sheet = wb['Sheet1'] # access any specific sheet \n",
    "# cell = sheet['A1'] # to access a particular cell  give the coordinate of a cell.\n",
    "cell = sheet.cell(1,1) # position of the row & column\n",
    "print(cell.value)"
   ]
  },
  {
   "cell_type": "markdown",
   "id": "5173e86b",
   "metadata": {},
   "source": [
    "to iterate over all the rows of the sheet , we need to know how many rows we have in this spreadsheet"
   ]
  },
  {
   "cell_type": "code",
   "execution_count": 33,
   "id": "4dd7f5a8",
   "metadata": {},
   "outputs": [
    {
     "name": "stdout",
     "output_type": "stream",
     "text": [
      "4\n",
      "3\n"
     ]
    }
   ],
   "source": [
    "print(sheet.max_row)\n",
    "print(sheet.max_column)"
   ]
  },
  {
   "cell_type": "code",
   "execution_count": 34,
   "id": "fed2a1c4",
   "metadata": {},
   "outputs": [
    {
     "name": "stdout",
     "output_type": "stream",
     "text": [
      "5.95\n",
      "6.95\n",
      "7.95\n"
     ]
    }
   ],
   "source": [
    "for row in range(2,sheet.max_row + 1):\n",
    "    cell = sheet.cell(row,3) # access each cell of 3rd column\n",
    "    print(cell.value)"
   ]
  },
  {
   "cell_type": "markdown",
   "id": "f5178aac",
   "metadata": {},
   "source": [
    "we want to decrease 10% of the prices ."
   ]
  },
  {
   "cell_type": "code",
   "execution_count": 35,
   "id": "5242b238",
   "metadata": {},
   "outputs": [
    {
     "name": "stdout",
     "output_type": "stream",
     "text": [
      "5.355\n",
      "6.255\n",
      "7.155\n"
     ]
    }
   ],
   "source": [
    "for row in range(2,sheet.max_row + 1):\n",
    "    cell = sheet.cell(row,3) # access each cell of 3rd column\n",
    "    corrected_price = cell.value * 0.9\n",
    "    print(corrected_price)\n",
    "    corrected_price_cell = sheet.cell(row,4) # this returns a cell object\n",
    "    corrected_price_cell.value = corrected_price\n",
    "\n",
    "wb.save('transactions2.xlsx')\n",
    "  "
   ]
  },
  {
   "cell_type": "markdown",
   "metadata": {},
   "source": [
    "Create a Bar chart with the values of 4th column "
   ]
  },
  {
   "cell_type": "code",
   "execution_count": 36,
   "id": "72165876",
   "metadata": {},
   "outputs": [],
   "source": [
    "value = Reference(sheet,min_row=2,max_row= sheet.max_row ,min_col=4,max_col=4) # returns all the values of 4th column\n",
    "chart = BarChart()\n",
    "chart.add_data(value)\n",
    "sheet.add_chart(chart,'F2')\n",
    "wb.save('transactions2.xlsx')\n"
   ]
  },
  {
   "cell_type": "markdown",
   "id": "bd7ea6e7",
   "metadata": {},
   "source": [
    "if we are going to use this to automate the process of updating thousands of spreadsheets, this program wouldn't work, because it's only relying on one file. So we have to reorganize this code, and move it inside of a function. This function should take the name of the file as input ."
   ]
  },
  {
   "cell_type": "code",
   "execution_count": null,
   "id": "c74800ca",
   "metadata": {},
   "outputs": [],
   "source": [
    "def process_workbook(filename , sheet_name ,col ,col_name, change_percentage ):\n",
    "    wb = xl.load_workbook(filename)\n",
    "    sheet = wb[sheet_name] # access any specific sheet \n",
    "    \n",
    "    # Insert new column right after the original price column\n",
    "    sheet.insert_cols(col + 1)\n",
    "    sheet.cell(row=1, column=col + 1).value = col_name\n",
    "    # sheet.cell(row=1, column=col + 1 ,value = col_name)\n",
    "\n",
    "    # Fill corrected values\n",
    "    for row in range(2,sheet.max_row + 1):\n",
    "        cell = sheet.cell(row,col) # access each cell of specified column\n",
    "        corrected_value = cell.value * change_percentage if isinstance(cell.value, (int, float)) else None\n",
    "        if corrected_value is not None:\n",
    "            sheet.cell(row=row, column=col + 1).value = corrected_value\n",
    "    \n",
    "    # Create bar chart referencing the corrected column\n",
    "    value = Reference(sheet,min_row=2,max_row= sheet.max_row ,min_col= col + 1,max_col= col + 1) # returns all the values of specified column\n",
    "    chart = BarChart()\n",
    "    chart.add_data(value ,titles_from_data=True)\n",
    "    sheet.add_chart(chart,'F2')\n",
    "    \n",
    "    # Save to a new file\n",
    "    wb.save(filename.replace(\".xlsx\", \"_processed.xlsx\"))\n",
    "    "
   ]
  },
  {
   "cell_type": "code",
   "execution_count": 13,
   "id": "3daa707f",
   "metadata": {},
   "outputs": [],
   "source": [
    "process_workbook(\n",
    "    filename=\"transactions.xlsx\",\n",
    "    sheet_name=\"Sheet1\",\n",
    "    col=3,\n",
    "    col_name=\"Corrected Price\",\n",
    "    change_percentage=0.8\n",
    ")"
   ]
  },
  {
   "cell_type": "markdown",
   "id": "ffd65017",
   "metadata": {},
   "source": [
    "To process multiple spreadsheets"
   ]
  },
  {
   "cell_type": "code",
   "execution_count": 28,
   "id": "ecd67634",
   "metadata": {},
   "outputs": [],
   "source": [
    "import openpyxl as xl\n",
    "from openpyxl.chart import BarChart, Reference\n",
    "from openpyxl.styles import Font, PatternFill, Alignment  # for styles and formatting\n",
    "import os\n",
    "from statistics import mean  # to calculate average easily\n",
    "\n",
    "def process_workbook(filename , sheet_name , col , col_name , change_percentage):\n",
    "    # Load the workbook and access the correct sheet\n",
    "    wb = xl.load_workbook(filename)\n",
    "    sheet = wb[sheet_name]   # access any specific sheet\n",
    "    \n",
    "    # Insert a new column right after the original column (col+1 is \"Corrected Price\")\n",
    "    sheet.insert_cols(col + 1)\n",
    "    sheet.cell(row=1, column=col + 1).value = col_name\n",
    "        # sheet.cell(row=1, column=col + 1 ,value = col_name)\n",
    "\n",
    "\n",
    "    # Style the new header cell (bold, colored, centered)\n",
    "    header_cell = sheet.cell(row=1, column=col + 1)\n",
    "    header_cell.font = Font(bold=True, color=\"FFFFFF\")        # White bold text\n",
    "    header_cell.fill = PatternFill(start_color=\"4F81BD\",      # Blue cell background\n",
    "                                   end_color=\"4F81BD\", fill_type=\"solid\")\n",
    "    header_cell.alignment = Alignment(horizontal=\"center\")    # Center align text\n",
    "\n",
    "    # Create a list to keep \"corrected price\" values for summaries later\n",
    "    corrected_prices = []\n",
    "\n",
    "    # ====  Fill corrected values ====\n",
    "    for row in range(2, sheet.max_row + 1):\n",
    "        cell = sheet.cell(row, col)   # original price cell and access each cell of specified column\n",
    "        value = cell.value # related to Skip blanks\n",
    "\n",
    "        # Skip blanks\n",
    "        if value is None:\n",
    "            print(f\"⚠️ {filename} - Row {row}: Missing value, skipped.\")\n",
    "            continue\n",
    "        # Skip wrong data types (must be number, not text like \"N/A\")\n",
    "        if not isinstance(value, (int, float)):\n",
    "            print(f\"⚠️ {filename} - Row {row}: Invalid data '{value}', skipped.\")\n",
    "            continue\n",
    "\n",
    "        # Apply discount or price change\n",
    "        corrected_value = value * change_percentage\n",
    "        sheet.cell(row=row, column=col + 1).value = corrected_value\n",
    "\n",
    "        # Apply currency style (shows as ৳ 1,234.50)\n",
    "        sheet.cell(row=row, column=col + 1).number_format = '\"৳\"#,##0.00'\n",
    "\n",
    "        # Save for summary totals later\n",
    "        corrected_prices.append(corrected_value)\n",
    "\n",
    "    # ==== Chart comparing Original vs Corrected ====\n",
    "    # Reference both columns (original and corrected)\n",
    "    values = Reference(sheet, min_row=1, max_row=sheet.max_row, min_col=col, max_col=col+1) # returns all the values of specified column\n",
    "    \n",
    "    # Create a bar chart with two sets of data\n",
    "    chart = BarChart()\n",
    "    chart.add_data(values, titles_from_data=True)\n",
    "    chart.title = \"Original vs Corrected Prices\"  # Chart title\n",
    "    chart.y_axis.title = \"Price\"                 # Y-axis label\n",
    "    sheet.add_chart(chart, 'G2')                 # Add chart starting at cell G2\n",
    "\n",
    "    # ==== Summary Report ====\n",
    "    # If we got valid corrected prices, create summary results\n",
    "    if corrected_prices:\n",
    "        total_corrected = sum(corrected_prices)      # get total\n",
    "        average_corrected = mean(corrected_prices)   # get average\n",
    "\n",
    "        # Place the summary 2 rows below the data\n",
    "        summary_row = sheet.max_row + 2\n",
    "\n",
    "        # Write \"Total Corrected Price\" in one column\n",
    "        sheet.cell(row=summary_row, column=col).value = \"Total Corrected Price\"\n",
    "        sheet.cell(row=summary_row, column=col).font = Font(bold=True)\n",
    "        sheet.cell(row=summary_row, column=col + 1).value = total_corrected\n",
    "        sheet.cell(row=summary_row, column=col + 1).number_format = '\"৳\"#,##0.00'\n",
    "\n",
    "        # Write \"Average Corrected Price\" just below total\n",
    "        sheet.cell(row=summary_row + 1, column=col).value = \"Average Corrected Price\"\n",
    "        sheet.cell(row=summary_row + 1, column=col).font = Font(bold=True)\n",
    "        sheet.cell(row=summary_row + 1, column=col + 1).value = average_corrected\n",
    "        sheet.cell(row=summary_row + 1, column=col + 1).number_format = '\"৳\"#,##0.00'\n",
    "\n",
    "        # Style the summary area with a light green background\n",
    "        for r in (summary_row, summary_row + 1):\n",
    "            label_cell = sheet.cell(row=r, column=col)\n",
    "            label_cell.fill = PatternFill(start_color=\"C6EFCE\",\n",
    "                                          end_color=\"C6EFCE\", fill_type=\"solid\")\n",
    "            \n",
    "    # Save output with \"_processed.xlsx\" to avoid overwriting original file\n",
    "    output_file = filename.replace(\".xlsx\", \"_processed.xlsx\")\n",
    "    wb.save(output_file)\n",
    "    print(f\"💾 Saved {output_file}\")"
   ]
  },
  {
   "cell_type": "code",
   "execution_count": 29,
   "id": "492714d8",
   "metadata": {},
   "outputs": [
    {
     "name": "stdout",
     "output_type": "stream",
     "text": [
      "💾 Saved C:\\Users\\mehed\\Documents\\Automation with Python\\transactions_processed.xlsx\n"
     ]
    }
   ],
   "source": [
    "# Batch processing ====\n",
    "# Loop through every Excel file in \"data\" folder\n",
    "folder = r\"C:\\Users\\mehed\\Documents\\Automation with Python\"\n",
    "for file in os.listdir(folder):\n",
    "    if file.endswith(\".xlsx\") and not file.endswith(\"_processed.xlsx\"):  \n",
    "        filepath = os.path.join(folder, file)\n",
    "        process_workbook(\n",
    "            filename=filepath,\n",
    "            sheet_name=\"Sheet1\",\n",
    "            col=3,  # original price column (3rd column in this dataset)\n",
    "            col_name=\"Corrected Price\",  # new column name\n",
    "            change_percentage=0.8        # apply 20% discount\n",
    "        )"
   ]
  }
 ],
 "metadata": {
  "kernelspec": {
   "display_name": "Python 3",
   "language": "python",
   "name": "python3"
  },
  "language_info": {
   "codemirror_mode": {
    "name": "ipython",
    "version": 3
   },
   "file_extension": ".py",
   "mimetype": "text/x-python",
   "name": "python",
   "nbconvert_exporter": "python",
   "pygments_lexer": "ipython3",
   "version": "3.13.7"
  }
 },
 "nbformat": 4,
 "nbformat_minor": 5
}
